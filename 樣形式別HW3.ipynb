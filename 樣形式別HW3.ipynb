{
 "cells": [
  {
   "cell_type": "code",
   "execution_count": 1,
   "id": "7e653923",
   "metadata": {},
   "outputs": [
    {
     "name": "stdout",
     "output_type": "stream",
     "text": [
      "tf.Tensor(\n",
      "[[1.]\n",
      " [1.]], shape=(2, 1), dtype=float32)\n"
     ]
    }
   ],
   "source": [
    "import tensorflow as tf\n",
    "x = tf.ones(shape=(2, 1))\n",
    "print(x)"
   ]
  },
  {
   "cell_type": "markdown",
   "id": "b34a83b6",
   "metadata": {},
   "source": [
    "# shape(2,1)為產生一個shape為2x1的矩陣\n",
    "# 因為是使用tf.one，所以所有參數的數值為1\n",
    "# dtype是創建tensor對象的數據類型，這裡是float32。"
   ]
  },
  {
   "cell_type": "code",
   "execution_count": 2,
   "id": "6d0194c6",
   "metadata": {
    "scrolled": true
   },
   "outputs": [
    {
     "name": "stdout",
     "output_type": "stream",
     "text": [
      "tf.Tensor(\n",
      "[[0.]\n",
      " [0.]], shape=(2, 1), dtype=float32)\n"
     ]
    }
   ],
   "source": [
    "x = tf.zeros(shape=(2, 1))\n",
    "print(x)"
   ]
  },
  {
   "cell_type": "markdown",
   "id": "fbe2b12b",
   "metadata": {},
   "source": [
    "# shape(2,1)為產生一個shape為2x1的矩陣\n",
    "# 因為是使用tf.zero，所以所有參數的數值為0"
   ]
  },
  {
   "cell_type": "code",
   "execution_count": 3,
   "id": "65f1da86",
   "metadata": {},
   "outputs": [
    {
     "name": "stdout",
     "output_type": "stream",
     "text": [
      "tf.Tensor(\n",
      "[[-1.3924493 ]\n",
      " [ 0.56434816]\n",
      " [ 1.2752737 ]], shape=(3, 1), dtype=float32)\n"
     ]
    }
   ],
   "source": [
    "x = tf.random.normal(shape=(3, 1), mean=0., stddev=1.)\n",
    "print(x)"
   ]
  },
  {
   "cell_type": "markdown",
   "id": "bbe45d6e",
   "metadata": {},
   "source": [
    "# tf.random.normal用來隨機選出常態分布中指定個數的值。\n",
    "# mean:平均值\n",
    "# stddev:標準差\n",
    "# 這裡的3x1矩陣裡的數值會介於-1和1之間。"
   ]
  },
  {
   "cell_type": "code",
   "execution_count": 4,
   "id": "a264bb65",
   "metadata": {},
   "outputs": [
    {
     "name": "stdout",
     "output_type": "stream",
     "text": [
      "[[0. 1.]\n",
      " [1. 1.]]\n"
     ]
    }
   ],
   "source": [
    "import numpy as np\n",
    "x = np.ones(shape=(2, 2))\n",
    "x[0, 0] = 0.\n",
    "print(x)"
   ]
  },
  {
   "cell_type": "markdown",
   "id": "166d7976",
   "metadata": {},
   "source": [
    "# 這裡用print(x)可以看到np.ones()產生出的array內的值。\n",
    "# 用x[0,0]=0. 這是讓(0,0)這個位址的值把它設為0。若少了這行array裡的值都會是1，若把它設成x[0,0]=2.，(0,0)這個位址的值就會被設為2。"
   ]
  },
  {
   "cell_type": "code",
   "execution_count": 5,
   "id": "34e86aaf",
   "metadata": {},
   "outputs": [
    {
     "name": "stdout",
     "output_type": "stream",
     "text": [
      "<tf.Variable 'Variable:0' shape=(3, 1) dtype=float32, numpy=\n",
      "array([[-0.6535026],\n",
      "       [ 1.5744619],\n",
      "       [ 1.495433 ]], dtype=float32)>\n"
     ]
    }
   ],
   "source": [
    "v = tf.Variable(initial_value=tf.random.normal(shape=(3, 1)))\n",
    "print(v)"
   ]
  },
  {
   "cell_type": "markdown",
   "id": "711311ad",
   "metadata": {},
   "source": [
    "# initial_value為初始值\n",
    "# 讓array裡產生隨機變數"
   ]
  },
  {
   "cell_type": "code",
   "execution_count": 6,
   "id": "f9052e83",
   "metadata": {},
   "outputs": [
    {
     "data": {
      "text/plain": [
       "<tf.Variable 'UnreadVariable' shape=(3, 1) dtype=float32, numpy=\n",
       "array([[1.],\n",
       "       [1.],\n",
       "       [1.]], dtype=float32)>"
      ]
     },
     "execution_count": 6,
     "metadata": {},
     "output_type": "execute_result"
    }
   ],
   "source": [
    "v.assign(tf.ones((3, 1)))"
   ]
  },
  {
   "cell_type": "markdown",
   "id": "7f1fe5de",
   "metadata": {},
   "source": [
    "# 透過assign(賦予值)的方式讓array的值都變成tf.ones的值，也就是1。"
   ]
  },
  {
   "cell_type": "code",
   "execution_count": 7,
   "id": "ddc393d6",
   "metadata": {},
   "outputs": [
    {
     "data": {
      "text/plain": [
       "<tf.Variable 'UnreadVariable' shape=(3, 1) dtype=float32, numpy=\n",
       "array([[3.],\n",
       "       [1.],\n",
       "       [1.]], dtype=float32)>"
      ]
     },
     "execution_count": 7,
     "metadata": {},
     "output_type": "execute_result"
    }
   ],
   "source": [
    "v[0, 0].assign(3.)"
   ]
  },
  {
   "cell_type": "markdown",
   "id": "c2a953e1",
   "metadata": {},
   "source": [
    "# 讓array(0,0)的值assign為3。"
   ]
  },
  {
   "cell_type": "code",
   "execution_count": 8,
   "id": "e5e2b024",
   "metadata": {},
   "outputs": [
    {
     "data": {
      "text/plain": [
       "<tf.Variable 'UnreadVariable' shape=(3, 1) dtype=float32, numpy=\n",
       "array([[4.],\n",
       "       [2.],\n",
       "       [2.]], dtype=float32)>"
      ]
     },
     "execution_count": 8,
     "metadata": {},
     "output_type": "execute_result"
    }
   ],
   "source": [
    "v.assign_add(tf.ones((3, 1)))"
   ]
  },
  {
   "cell_type": "markdown",
   "id": "27e41bfc",
   "metadata": {},
   "source": [
    "# tf.assign_add能讓array的值+ tf.ones()的值，也就是+1。所以所有的值從[3,1,1]->[4,2,2]。"
   ]
  },
  {
   "cell_type": "code",
   "execution_count": 9,
   "id": "385f18ec",
   "metadata": {},
   "outputs": [
    {
     "name": "stdout",
     "output_type": "stream",
     "text": [
      "tf.Tensor(\n",
      "[[1. 1.]\n",
      " [1. 1.]], shape=(2, 2), dtype=float32)\n",
      "tf.Tensor(\n",
      "[[1. 1.]\n",
      " [1. 1.]], shape=(2, 2), dtype=float32)\n",
      "tf.Tensor(\n",
      "[[2. 2.]\n",
      " [2. 2.]], shape=(2, 2), dtype=float32)\n",
      "tf.Tensor(\n",
      "[[4. 4.]\n",
      " [4. 4.]], shape=(2, 2), dtype=float32)\n"
     ]
    }
   ],
   "source": [
    "a = tf.ones((2, 2))\n",
    "b = tf.square(a)\n",
    "c = tf.sqrt(a)\n",
    "d = b + c\n",
    "e = tf.matmul(a, b)\n",
    "e *= d\n",
    "print(b)\n",
    "print(c)\n",
    "print(d)\n",
    "print(e)"
   ]
  },
  {
   "cell_type": "markdown",
   "id": "e1768a5a",
   "metadata": {},
   "source": [
    "# tf.square()能讓陣列裡的值平方，因為array裡的值為1，所以1平方後還是1。\n",
    "# tf.sqrt()能讓陣列的值取平方根，因為array裡的值為1，所以開根號後還是1。\n",
    "# tf.matmul() 讓矩陣內的值進行相乘，但要符合矩陣乘法的條件，例:(2x3)(3x2)->(2,2)。在這個例子裡是(2x2)(2x2)->(2x2)，乘出來的是2x2矩陣。\n",
    "# tf.multiply()與tf.matmul()的差別在於，tf.multiply()是用在兩個array的格式是一樣的才能相乘，例如:(2x3)(2x3)->(2x3)，乘出來的結果是2x3的矩陣。"
   ]
  },
  {
   "cell_type": "code",
   "execution_count": 10,
   "id": "40e351d0",
   "metadata": {},
   "outputs": [],
   "source": [
    "input_var = tf.Variable(initial_value=3.)\n",
    "with tf.GradientTape() as tape:\n",
    "   result = tf.square(input_var)\n",
    "gradient = tape.gradient(result, input_var)"
   ]
  },
  {
   "cell_type": "markdown",
   "id": "722a3872",
   "metadata": {},
   "source": [
    "# tf.GradientTape() :用來計算梯度。\n",
    "# gradient():用來微分"
   ]
  },
  {
   "cell_type": "code",
   "execution_count": 11,
   "id": "898cfb1d",
   "metadata": {},
   "outputs": [],
   "source": [
    "input_const = tf.constant(3.)\n",
    "with tf.GradientTape() as tape:\n",
    "   tape.watch(input_const)\n",
    "   result = tf.square(input_const)\n",
    "gradient = tape.gradient(result, input_const)"
   ]
  },
  {
   "cell_type": "code",
   "execution_count": 12,
   "id": "03bdbd05",
   "metadata": {},
   "outputs": [],
   "source": [
    "time = tf.Variable(0.)\n",
    "with tf.GradientTape() as outer_tape:\n",
    "    with tf.GradientTape() as inner_tape:\n",
    "        position =  4.9 * time ** 2\n",
    "    speed = inner_tape.gradient(position, time)\n",
    "acceleration = outer_tape.gradient(speed, time)"
   ]
  },
  {
   "cell_type": "code",
   "execution_count": 13,
   "id": "469d27e3",
   "metadata": {},
   "outputs": [],
   "source": [
    "num_samples_per_class = 1000\n",
    "negative_samples = np.random.multivariate_normal(\n",
    "    mean=[0, 3],\n",
    "    cov=[[1, 0.5],[0.5, 1]],\n",
    "    size=num_samples_per_class)\n",
    "positive_samples = np.random.multivariate_normal(\n",
    "    mean=[3, 0],\n",
    "    cov=[[1, 0.5],[0.5, 1]],\n",
    "    size=num_samples_per_class)"
   ]
  },
  {
   "cell_type": "markdown",
   "id": "5c96e29c",
   "metadata": {},
   "source": [
    "# np.random.multivariate_normal():從多元常態分布中隨機抽樣。\n",
    "# mean: 長度為N的一維數組。\n",
    "# cov: 協方差矩陣，必須是對角矩陣。\n",
    "# size:這裡的size=(1000,1000)，也就是1000x1000的矩陣。"
   ]
  },
  {
   "cell_type": "code",
   "execution_count": 14,
   "id": "fac8585f",
   "metadata": {},
   "outputs": [],
   "source": [
    "inputs = np.vstack((negative_samples, positive_samples)).astype(np.float32)"
   ]
  },
  {
   "cell_type": "markdown",
   "id": "cdf88832",
   "metadata": {},
   "source": [
    "# np.vstack():從直(上下)的方向將array堆疊起來。"
   ]
  },
  {
   "cell_type": "code",
   "execution_count": 15,
   "id": "2922c700",
   "metadata": {},
   "outputs": [],
   "source": [
    "targets = np.vstack((np.zeros((num_samples_per_class, 1), dtype=\"float32\"),\n",
    "                     np.ones((num_samples_per_class, 1), dtype=\"float32\")))"
   ]
  },
  {
   "cell_type": "code",
   "execution_count": 16,
   "id": "ac489fd2",
   "metadata": {},
   "outputs": [
    {
     "data": {
      "image/png": "[encoded data removed]",
      "text/plain": [
       "<Figure size 432x288 with 1 Axes>"
      ]
     },
     "metadata": {
      "needs_background": "light"
     },
     "output_type": "display_data"
    }
   ],
   "source": [
    "import matplotlib.pyplot as plt\n",
    "plt.scatter(inputs[:, 0], inputs[:, 1], c=targets[:, 0])\n",
    "plt.show()"
   ]
  },
  {
   "cell_type": "markdown",
   "id": "e79bb87b",
   "metadata": {},
   "source": [
    "# plt.scatter(): 製作散點圖。"
   ]
  },
  {
   "cell_type": "code",
   "execution_count": 17,
   "id": "aa5c3c1a",
   "metadata": {},
   "outputs": [],
   "source": [
    "input_dim = 2\n",
    "output_dim = 1\n",
    "W = tf.Variable(initial_value=tf.random.uniform(shape=(input_dim, output_dim)))\n",
    "b = tf.Variable(initial_value=tf.zeros(shape=(output_dim,)))"
   ]
  },
  {
   "cell_type": "code",
   "execution_count": 18,
   "id": "d281ae54",
   "metadata": {},
   "outputs": [],
   "source": [
    "def model(inputs):\n",
    "    return tf.matmul(inputs, W) + b"
   ]
  },
  {
   "cell_type": "code",
   "execution_count": 19,
   "id": "cbe73cb5",
   "metadata": {},
   "outputs": [],
   "source": [
    "def square_loss(targets, predictions):\n",
    "    per_sample_losses = tf.square(targets - predictions)\n",
    "    return tf.reduce_mean(per_sample_losses)"
   ]
  },
  {
   "cell_type": "markdown",
   "id": "1309ca7d",
   "metadata": {},
   "source": [
    "# tf.reduce_mean():用來降維(會使用到axis=x，x為任意整數)or計算array裡數值總和的平均值。"
   ]
  },
  {
   "cell_type": "code",
   "execution_count": 20,
   "id": "6fc0cbd4",
   "metadata": {},
   "outputs": [],
   "source": [
    "learning_rate = 0.075\n",
    "\n",
    "def training_step(inputs, targets):\n",
    "    with tf.GradientTape() as tape:\n",
    "        predictions = model(inputs)\n",
    "        loss = square_loss(targets, predictions)\n",
    "    grad_loss_wrt_W, grad_loss_wrt_b = tape.gradient(loss, [W, b])\n",
    "    W.assign_sub(grad_loss_wrt_W * learning_rate)\n",
    "    b.assign_sub(grad_loss_wrt_b * learning_rate)\n",
    "    return loss"
   ]
  },
  {
   "cell_type": "code",
   "execution_count": 21,
   "id": "7ec2e5bc",
   "metadata": {},
   "outputs": [
    {
     "name": "stdout",
     "output_type": "stream",
     "text": [
      "Loss at step 0: 1.7926\n",
      "Loss at step 1: 0.1644\n",
      "Loss at step 2: 0.1068\n",
      "Loss at step 3: 0.0981\n",
      "Loss at step 4: 0.0930\n",
      "Loss at step 5: 0.0884\n",
      "Loss at step 6: 0.0842\n",
      "Loss at step 7: 0.0802\n",
      "Loss at step 8: 0.0764\n",
      "Loss at step 9: 0.0729\n",
      "Loss at step 10: 0.0697\n",
      "Loss at step 11: 0.0666\n",
      "Loss at step 12: 0.0638\n",
      "Loss at step 13: 0.0611\n",
      "Loss at step 14: 0.0586\n",
      "Loss at step 15: 0.0563\n",
      "Loss at step 16: 0.0541\n",
      "Loss at step 17: 0.0521\n",
      "Loss at step 18: 0.0502\n",
      "Loss at step 19: 0.0484\n",
      "Loss at step 20: 0.0467\n",
      "Loss at step 21: 0.0452\n",
      "Loss at step 22: 0.0437\n",
      "Loss at step 23: 0.0424\n",
      "Loss at step 24: 0.0411\n",
      "Loss at step 25: 0.0399\n",
      "Loss at step 26: 0.0388\n",
      "Loss at step 27: 0.0378\n",
      "Loss at step 28: 0.0368\n",
      "Loss at step 29: 0.0359\n",
      "Loss at step 30: 0.0350\n",
      "Loss at step 31: 0.0342\n",
      "Loss at step 32: 0.0335\n",
      "Loss at step 33: 0.0328\n",
      "Loss at step 34: 0.0322\n",
      "Loss at step 35: 0.0316\n",
      "Loss at step 36: 0.0310\n",
      "Loss at step 37: 0.0305\n",
      "Loss at step 38: 0.0300\n",
      "Loss at step 39: 0.0295\n",
      "Loss at step 40: 0.0291\n",
      "Loss at step 41: 0.0287\n",
      "Loss at step 42: 0.0283\n",
      "Loss at step 43: 0.0279\n",
      "Loss at step 44: 0.0276\n",
      "Loss at step 45: 0.0273\n",
      "Loss at step 46: 0.0270\n",
      "Loss at step 47: 0.0267\n",
      "Loss at step 48: 0.0265\n",
      "Loss at step 49: 0.0262\n",
      "Loss at step 50: 0.0260\n",
      "Loss at step 51: 0.0258\n",
      "Loss at step 52: 0.0256\n",
      "Loss at step 53: 0.0254\n",
      "Loss at step 54: 0.0253\n",
      "Loss at step 55: 0.0251\n",
      "Loss at step 56: 0.0250\n",
      "Loss at step 57: 0.0248\n",
      "Loss at step 58: 0.0247\n",
      "Loss at step 59: 0.0246\n",
      "Loss at step 60: 0.0245\n",
      "Loss at step 61: 0.0244\n",
      "Loss at step 62: 0.0243\n",
      "Loss at step 63: 0.0242\n",
      "Loss at step 64: 0.0241\n",
      "Loss at step 65: 0.0240\n",
      "Loss at step 66: 0.0239\n",
      "Loss at step 67: 0.0239\n",
      "Loss at step 68: 0.0238\n",
      "Loss at step 69: 0.0237\n",
      "Loss at step 70: 0.0237\n",
      "Loss at step 71: 0.0236\n",
      "Loss at step 72: 0.0236\n",
      "Loss at step 73: 0.0235\n",
      "Loss at step 74: 0.0235\n",
      "Loss at step 75: 0.0234\n",
      "Loss at step 76: 0.0234\n",
      "Loss at step 77: 0.0234\n",
      "Loss at step 78: 0.0233\n",
      "Loss at step 79: 0.0233\n",
      "Loss at step 80: 0.0233\n",
      "Loss at step 81: 0.0232\n",
      "Loss at step 82: 0.0232\n",
      "Loss at step 83: 0.0232\n",
      "Loss at step 84: 0.0232\n",
      "Loss at step 85: 0.0232\n",
      "Loss at step 86: 0.0231\n",
      "Loss at step 87: 0.0231\n",
      "Loss at step 88: 0.0231\n",
      "Loss at step 89: 0.0231\n",
      "Loss at step 90: 0.0231\n",
      "Loss at step 91: 0.0231\n",
      "Loss at step 92: 0.0230\n",
      "Loss at step 93: 0.0230\n",
      "Loss at step 94: 0.0230\n",
      "Loss at step 95: 0.0230\n",
      "Loss at step 96: 0.0230\n",
      "Loss at step 97: 0.0230\n",
      "Loss at step 98: 0.0230\n",
      "Loss at step 99: 0.0230\n",
      "Loss at step 100: 0.0230\n",
      "Loss at step 101: 0.0230\n",
      "Loss at step 102: 0.0230\n",
      "Loss at step 103: 0.0229\n",
      "Loss at step 104: 0.0229\n",
      "Loss at step 105: 0.0229\n",
      "Loss at step 106: 0.0229\n",
      "Loss at step 107: 0.0229\n",
      "Loss at step 108: 0.0229\n",
      "Loss at step 109: 0.0229\n",
      "Loss at step 110: 0.0229\n",
      "Loss at step 111: 0.0229\n",
      "Loss at step 112: 0.0229\n",
      "Loss at step 113: 0.0229\n",
      "Loss at step 114: 0.0229\n",
      "Loss at step 115: 0.0229\n",
      "Loss at step 116: 0.0229\n",
      "Loss at step 117: 0.0229\n",
      "Loss at step 118: 0.0229\n",
      "Loss at step 119: 0.0229\n",
      "Loss at step 120: 0.0229\n",
      "Loss at step 121: 0.0229\n",
      "Loss at step 122: 0.0229\n",
      "Loss at step 123: 0.0229\n",
      "Loss at step 124: 0.0229\n",
      "Loss at step 125: 0.0229\n",
      "Loss at step 126: 0.0229\n",
      "Loss at step 127: 0.0229\n",
      "Loss at step 128: 0.0229\n",
      "Loss at step 129: 0.0229\n",
      "Loss at step 130: 0.0229\n",
      "Loss at step 131: 0.0229\n",
      "Loss at step 132: 0.0229\n",
      "Loss at step 133: 0.0229\n",
      "Loss at step 134: 0.0229\n",
      "Loss at step 135: 0.0229\n",
      "Loss at step 136: 0.0229\n",
      "Loss at step 137: 0.0229\n",
      "Loss at step 138: 0.0229\n",
      "Loss at step 139: 0.0229\n",
      "Loss at step 140: 0.0229\n",
      "Loss at step 141: 0.0229\n",
      "Loss at step 142: 0.0229\n",
      "Loss at step 143: 0.0229\n",
      "Loss at step 144: 0.0229\n",
      "Loss at step 145: 0.0229\n",
      "Loss at step 146: 0.0229\n",
      "Loss at step 147: 0.0229\n",
      "Loss at step 148: 0.0229\n",
      "Loss at step 149: 0.0229\n",
      "Loss at step 150: 0.0229\n",
      "Loss at step 151: 0.0229\n",
      "Loss at step 152: 0.0229\n",
      "Loss at step 153: 0.0229\n",
      "Loss at step 154: 0.0229\n",
      "Loss at step 155: 0.0229\n",
      "Loss at step 156: 0.0229\n",
      "Loss at step 157: 0.0229\n",
      "Loss at step 158: 0.0229\n",
      "Loss at step 159: 0.0229\n",
      "Loss at step 160: 0.0229\n",
      "Loss at step 161: 0.0229\n",
      "Loss at step 162: 0.0229\n",
      "Loss at step 163: 0.0229\n",
      "Loss at step 164: 0.0229\n",
      "Loss at step 165: 0.0229\n",
      "Loss at step 166: 0.0229\n",
      "Loss at step 167: 0.0229\n",
      "Loss at step 168: 0.0229\n",
      "Loss at step 169: 0.0229\n",
      "Loss at step 170: 0.0229\n",
      "Loss at step 171: 0.0229\n",
      "Loss at step 172: 0.0229\n",
      "Loss at step 173: 0.0229\n",
      "Loss at step 174: 0.0229\n",
      "Loss at step 175: 0.0229\n",
      "Loss at step 176: 0.0229\n",
      "Loss at step 177: 0.0229\n",
      "Loss at step 178: 0.0229\n",
      "Loss at step 179: 0.0229\n",
      "Loss at step 180: 0.0229\n",
      "Loss at step 181: 0.0229\n",
      "Loss at step 182: 0.0229\n",
      "Loss at step 183: 0.0229\n",
      "Loss at step 184: 0.0229\n",
      "Loss at step 185: 0.0229\n",
      "Loss at step 186: 0.0229\n",
      "Loss at step 187: 0.0229\n",
      "Loss at step 188: 0.0229\n",
      "Loss at step 189: 0.0229\n",
      "Loss at step 190: 0.0229\n",
      "Loss at step 191: 0.0229\n",
      "Loss at step 192: 0.0229\n",
      "Loss at step 193: 0.0229\n",
      "Loss at step 194: 0.0229\n",
      "Loss at step 195: 0.0229\n",
      "Loss at step 196: 0.0229\n",
      "Loss at step 197: 0.0229\n",
      "Loss at step 198: 0.0229\n",
      "Loss at step 199: 0.0229\n"
     ]
    }
   ],
   "source": [
    "for step in range(200):\n",
    "    loss = training_step(inputs, targets)\n",
    "    print(f\"Loss at step {step}: {loss:.4f}\")"
   ]
  },
  {
   "attachments": {
    "image.png": {
     "image/png": "[encoded data removed]"
    }
   },
   "cell_type": "markdown",
   "id": "3865d851",
   "metadata": {},
   "source": [
    "![image.png](attachment:image.png)\n",
    "# 這是我目前訓練出來loss最低的"
   ]
  },
  {
   "cell_type": "code",
   "execution_count": 22,
   "id": "564e873c",
   "metadata": {},
   "outputs": [
    {
     "data": {
      "image/png": "[encoded data removed]",
      "text/plain": [
       "<Figure size 432x288 with 1 Axes>"
      ]
     },
     "metadata": {
      "needs_background": "light"
     },
     "output_type": "display_data"
    }
   ],
   "source": [
    "predictions = model(inputs)\n",
    "plt.scatter(inputs[:, 0], inputs[:, 1], c=predictions[:, 0] > 0.5)\n",
    "plt.show()"
   ]
  },
  {
   "cell_type": "code",
   "execution_count": 23,
   "id": "bd83ff1f",
   "metadata": {
    "scrolled": true
   },
   "outputs": [
    {
     "data": {
      "text/plain": [
       "<matplotlib.collections.PathCollection at 0x2179819a490>"
      ]
     },
     "execution_count": 23,
     "metadata": {},
     "output_type": "execute_result"
    },
    {
     "data": {
      "image/png": "[encoded data removed]",
      "text/plain": [
       "<Figure size 432x288 with 1 Axes>"
      ]
     },
     "metadata": {
      "needs_background": "light"
     },
     "output_type": "display_data"
    }
   ],
   "source": [
    "x = np.linspace(-1, 4, 100)\n",
    "y = - W[0] /  W[1] * x + (0.5 - b) / W[1]\n",
    "plt.plot(x, y, \"-r\")\n",
    "plt.scatter(inputs[:, 0], inputs[:, 1], c=predictions[:, 0] > 0.5)"
   ]
  },
  {
   "cell_type": "code",
   "execution_count": 24,
   "id": "307e5446",
   "metadata": {},
   "outputs": [],
   "source": [
    "from tensorflow import keras\n",
    "\n",
    "class SimpleDense(keras.layers.Layer):\n",
    "\n",
    "    def __init__(self, units, activation=None):\n",
    "        super().__init__()\n",
    "        self.units = units\n",
    "        self.activation = activation\n",
    "\n",
    "    def build(self, input_shape):\n",
    "        input_dim = input_shape[-1]\n",
    "        self.W = self.add_weight(shape=(input_dim, self.units),\n",
    "                                 initializer=\"random_normal\")\n",
    "        self.b = self.add_weight(shape=(self.units,),\n",
    "                                 initializer=\"zeros\")\n",
    "\n",
    "    def call(self, inputs):\n",
    "        y = tf.matmul(inputs, self.W) + self.b\n",
    "        if self.activation is not None:\n",
    "            y = self.activation(y)\n",
    "        return y"
   ]
  },
  {
   "cell_type": "code",
   "execution_count": 25,
   "id": "0825e737",
   "metadata": {},
   "outputs": [
    {
     "name": "stdout",
     "output_type": "stream",
     "text": [
      "(2, 32)\n"
     ]
    }
   ],
   "source": [
    "my_dense = SimpleDense(units=32, activation=tf.nn.relu)\n",
    "input_tensor = tf.ones(shape=(2, 784))\n",
    "output_tensor = my_dense(input_tensor)\n",
    "print(output_tensor.shape)"
   ]
  },
  {
   "cell_type": "code",
   "execution_count": 26,
   "id": "9641a56e",
   "metadata": {},
   "outputs": [],
   "source": [
    "from tensorflow.keras import layers\n",
    "layer = layers.Dense(32, activation=\"relu\")"
   ]
  },
  {
   "cell_type": "code",
   "execution_count": 27,
   "id": "614a96b7",
   "metadata": {},
   "outputs": [],
   "source": [
    "from tensorflow.keras import models\n",
    "from tensorflow.keras import layers\n",
    "model = models.Sequential([\n",
    "    layers.Dense(32, activation=\"relu\"),\n",
    "    layers.Dense(32)\n",
    "])"
   ]
  },
  {
   "cell_type": "code",
   "execution_count": 28,
   "id": "503dc65a",
   "metadata": {},
   "outputs": [],
   "source": [
    "model = keras.Sequential([\n",
    "    SimpleDense(32, activation=\"relu\"),\n",
    "    SimpleDense(64, activation=\"relu\"),\n",
    "    SimpleDense(32, activation=\"relu\"),\n",
    "    SimpleDense(10, activation=\"softmax\")\n",
    "])"
   ]
  },
  {
   "cell_type": "code",
   "execution_count": 29,
   "id": "7687666e",
   "metadata": {},
   "outputs": [],
   "source": [
    "model = keras.Sequential([keras.layers.Dense(1)])\n",
    "model.compile(optimizer=\"rmsprop\",\n",
    "              loss=\"mean_squared_error\",\n",
    "              metrics=[\"accuracy\"])"
   ]
  },
  {
   "cell_type": "code",
   "execution_count": 30,
   "id": "a5b5a6c7",
   "metadata": {},
   "outputs": [],
   "source": [
    "model.compile(optimizer=keras.optimizers.RMSprop(),\n",
    "              loss=keras.losses.MeanSquaredError(),\n",
    "              metrics=[keras.metrics.BinaryAccuracy()])"
   ]
  },
  {
   "cell_type": "code",
   "execution_count": 31,
   "id": "6b43ac2a",
   "metadata": {},
   "outputs": [
    {
     "name": "stdout",
     "output_type": "stream",
     "text": [
      "Epoch 1/5\n",
      "16/16 [==============================] - 0s 1ms/step - loss: 2.3439 - binary_accuracy: 0.6260\n",
      "Epoch 2/5\n",
      "16/16 [==============================] - 0s 999us/step - loss: 2.1162 - binary_accuracy: 0.6385\n",
      "Epoch 3/5\n",
      "16/16 [==============================] - 0s 1ms/step - loss: 1.9312 - binary_accuracy: 0.6475\n",
      "Epoch 4/5\n",
      "16/16 [==============================] - 0s 1ms/step - loss: 1.7596 - binary_accuracy: 0.6575\n",
      "Epoch 5/5\n",
      "16/16 [==============================] - 0s 1ms/step - loss: 1.5974 - binary_accuracy: 0.6705\n"
     ]
    }
   ],
   "source": [
    "history = model.fit(\n",
    "    inputs,\n",
    "    targets,\n",
    "    epochs=5,\n",
    "    batch_size=128\n",
    ")"
   ]
  },
  {
   "cell_type": "code",
   "execution_count": 32,
   "id": "30d69ab2",
   "metadata": {},
   "outputs": [
    {
     "data": {
      "text/plain": [
       "{'loss': [2.3438942432403564,\n",
       "  2.1162426471710205,\n",
       "  1.93124258518219,\n",
       "  1.7596465349197388,\n",
       "  1.5973942279815674],\n",
       " 'binary_accuracy': [0.6259999871253967,\n",
       "  0.6384999752044678,\n",
       "  0.6474999785423279,\n",
       "  0.6575000286102295,\n",
       "  0.6704999804496765]}"
      ]
     },
     "execution_count": 32,
     "metadata": {},
     "output_type": "execute_result"
    }
   ],
   "source": [
    "history.history"
   ]
  },
  {
   "cell_type": "code",
   "execution_count": 33,
   "id": "300c07d2",
   "metadata": {},
   "outputs": [
    {
     "name": "stdout",
     "output_type": "stream",
     "text": [
      "Epoch 1/5\n",
      "88/88 [==============================] - 1s 3ms/step - loss: 0.0855 - binary_accuracy: 0.9607 - val_loss: 0.0281 - val_binary_accuracy: 0.9983\n",
      "Epoch 2/5\n",
      "88/88 [==============================] - 0s 1ms/step - loss: 0.0718 - binary_accuracy: 0.9621 - val_loss: 0.0256 - val_binary_accuracy: 0.9983\n",
      "Epoch 3/5\n",
      "88/88 [==============================] - 0s 1ms/step - loss: 0.0692 - binary_accuracy: 0.9543 - val_loss: 0.0483 - val_binary_accuracy: 0.9833\n",
      "Epoch 4/5\n",
      "88/88 [==============================] - 0s 1ms/step - loss: 0.0665 - binary_accuracy: 0.9600 - val_loss: 0.0262 - val_binary_accuracy: 0.9983\n",
      "Epoch 5/5\n",
      "88/88 [==============================] - 0s 1ms/step - loss: 0.0689 - binary_accuracy: 0.9536 - val_loss: 0.0504 - val_binary_accuracy: 0.9983\n"
     ]
    },
    {
     "data": {
      "text/plain": [
       "<keras.callbacks.History at 0x217988d4130>"
      ]
     },
     "execution_count": 33,
     "metadata": {},
     "output_type": "execute_result"
    }
   ],
   "source": [
    "model = keras.Sequential([keras.layers.Dense(1)])\n",
    "model.compile(optimizer=keras.optimizers.RMSprop(learning_rate=0.1),\n",
    "              loss=keras.losses.MeanSquaredError(),\n",
    "              metrics=[keras.metrics.BinaryAccuracy()])\n",
    "\n",
    "indices_permutation = np.random.permutation(len(inputs))\n",
    "shuffled_inputs = inputs[indices_permutation]\n",
    "shuffled_targets = targets[indices_permutation]\n",
    "\n",
    "num_validation_samples = int(0.3 * len(inputs))\n",
    "val_inputs = shuffled_inputs[:num_validation_samples]\n",
    "val_targets = shuffled_targets[:num_validation_samples]\n",
    "training_inputs = shuffled_inputs[num_validation_samples:]\n",
    "training_targets = shuffled_targets[num_validation_samples:]\n",
    "model.fit(\n",
    "    training_inputs,\n",
    "    training_targets,\n",
    "    epochs=5,\n",
    "    batch_size=16,\n",
    "    validation_data=(val_inputs, val_targets)\n",
    ")"
   ]
  },
  {
   "cell_type": "code",
   "execution_count": 34,
   "id": "df1d38e7",
   "metadata": {},
   "outputs": [
    {
     "name": "stdout",
     "output_type": "stream",
     "text": [
      "5/5 [==============================] - 0s 1ms/step\n",
      "[[-0.1940175 ]\n",
      " [ 0.11926517]\n",
      " [-0.02484939]\n",
      " [-0.05705824]\n",
      " [ 0.07270315]\n",
      " [ 1.1223996 ]\n",
      " [ 1.2284955 ]\n",
      " [ 1.0778188 ]\n",
      " [ 0.18061507]\n",
      " [-0.18478188]]\n"
     ]
    }
   ],
   "source": [
    "predictions = model.predict(val_inputs, batch_size=128)\n",
    "print(predictions[:10])"
   ]
  },
  {
   "cell_type": "code",
   "execution_count": null,
   "id": "0a3b4c3f",
   "metadata": {},
   "outputs": [],
   "source": []
  }
 ],
 "metadata": {
  "kernelspec": {
   "display_name": "Python 3 (ipykernel)",
   "language": "python",
   "name": "python3"
  },
  "language_info": {
   "codemirror_mode": {
    "name": "ipython",
    "version": 3
   },
   "file_extension": ".py",
   "mimetype": "text/x-python",
   "name": "python",
   "nbconvert_exporter": "python",
   "pygments_lexer": "ipython3",
   "version": "3.9.12"
  }
 },
 "nbformat": 4,
 "nbformat_minor": 5
}
